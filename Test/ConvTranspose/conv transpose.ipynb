{
 "cells": [
  {
   "cell_type": "code",
   "execution_count": 83,
   "id": "d3e9b448",
   "metadata": {},
   "outputs": [],
   "source": [
    "import torch\n",
    "from torch import nn\n",
    "import numpy as np"
   ]
  },
  {
   "cell_type": "markdown",
   "id": "c1776ae0",
   "metadata": {},
   "source": [
    "## Grouped Transposed Conv 2d"
   ]
  },
  {
   "cell_type": "code",
   "execution_count": 84,
   "id": "98105592",
   "metadata": {},
   "outputs": [
    {
     "data": {
      "text/plain": [
       "tensor([[[[ 0.,  1.,  2.],\n",
       "          [ 3.,  4.,  5.],\n",
       "          [ 6.,  7.,  8.]],\n",
       "\n",
       "         [[ 9., 10., 11.],\n",
       "          [12., 13., 14.],\n",
       "          [15., 16., 17.]]]])"
      ]
     },
     "execution_count": 84,
     "metadata": {},
     "output_type": "execute_result"
    }
   ],
   "source": [
    "conv = nn.ConvTranspose2d(2, 4, (3,3), groups=2)\n",
    "x = torch.from_numpy(np.arange(2*3*3, dtype=np.float32).reshape(1, 2, 3, 3)).to(torch.float32)\n",
    "x"
   ]
  },
  {
   "cell_type": "code",
   "execution_count": 85,
   "id": "071255b6",
   "metadata": {
    "scrolled": true
   },
   "outputs": [
    {
     "data": {
      "text/plain": [
       "torch.Size([1, 2, 3, 3])"
      ]
     },
     "execution_count": 85,
     "metadata": {},
     "output_type": "execute_result"
    }
   ],
   "source": [
    "x.shape"
   ]
  },
  {
   "cell_type": "code",
   "execution_count": 92,
   "id": "ef2c4ea1",
   "metadata": {},
   "outputs": [],
   "source": [
    "for par in conv.parameters():\n",
    "    par.requires_grad = False"
   ]
  },
  {
   "cell_type": "code",
   "execution_count": 93,
   "id": "d1024a93",
   "metadata": {},
   "outputs": [],
   "source": [
    "with torch.no_grad():\n",
    "    conv.weight.fill_(1.)"
   ]
  },
  {
   "cell_type": "code",
   "execution_count": 94,
   "id": "1820b059",
   "metadata": {},
   "outputs": [
    {
     "data": {
      "text/plain": [
       "torch.Size([2, 2, 3, 3])"
      ]
     },
     "execution_count": 94,
     "metadata": {},
     "output_type": "execute_result"
    }
   ],
   "source": [
    "conv.weight.shape"
   ]
  },
  {
   "cell_type": "code",
   "execution_count": 95,
   "id": "b410ad07",
   "metadata": {},
   "outputs": [
    {
     "data": {
      "text/plain": [
       "Parameter containing:\n",
       "tensor([[[[1., 1., 1.],\n",
       "          [1., 1., 1.],\n",
       "          [1., 1., 1.]],\n",
       "\n",
       "         [[1., 1., 1.],\n",
       "          [1., 1., 1.],\n",
       "          [1., 1., 1.]]],\n",
       "\n",
       "\n",
       "        [[[1., 1., 1.],\n",
       "          [1., 1., 1.],\n",
       "          [1., 1., 1.]],\n",
       "\n",
       "         [[1., 1., 1.],\n",
       "          [1., 1., 1.],\n",
       "          [1., 1., 1.]]]])"
      ]
     },
     "execution_count": 95,
     "metadata": {},
     "output_type": "execute_result"
    }
   ],
   "source": [
    "conv.weight"
   ]
  },
  {
   "cell_type": "code",
   "execution_count": 96,
   "id": "02368af5",
   "metadata": {},
   "outputs": [
    {
     "data": {
      "text/plain": [
       "torch.Size([1, 4, 5, 5])"
      ]
     },
     "execution_count": 96,
     "metadata": {},
     "output_type": "execute_result"
    }
   ],
   "source": [
    "#conv.\n",
    "y = conv(x)\n",
    "y.shape"
   ]
  },
  {
   "cell_type": "code",
   "execution_count": 116,
   "id": "c6708de3",
   "metadata": {},
   "outputs": [
    {
     "data": {
      "text/plain": [
       "tensor([[[[-4.8214e-02,  9.5179e-01,  2.9518e+00,  2.9518e+00,  1.9518e+00],\n",
       "          [ 2.9518e+00,  7.9518e+00,  1.4952e+01,  1.1952e+01,  6.9518e+00],\n",
       "          [ 8.9518e+00,  2.0952e+01,  3.5952e+01,  2.6952e+01,  1.4952e+01],\n",
       "          [ 8.9518e+00,  1.9952e+01,  3.2952e+01,  2.3952e+01,  1.2952e+01],\n",
       "          [ 5.9518e+00,  1.2952e+01,  2.0952e+01,  1.4952e+01,  7.9518e+00]],\n",
       "\n",
       "         [[-2.3228e-01,  7.6772e-01,  2.7677e+00,  2.7677e+00,  1.7677e+00],\n",
       "          [ 2.7677e+00,  7.7677e+00,  1.4768e+01,  1.1768e+01,  6.7677e+00],\n",
       "          [ 8.7677e+00,  2.0768e+01,  3.5768e+01,  2.6768e+01,  1.4768e+01],\n",
       "          [ 8.7677e+00,  1.9768e+01,  3.2768e+01,  2.3768e+01,  1.2768e+01],\n",
       "          [ 5.7677e+00,  1.2768e+01,  2.0768e+01,  1.4768e+01,  7.7677e+00]],\n",
       "\n",
       "         [[ 9.1800e+00,  1.9180e+01,  3.0180e+01,  2.1180e+01,  1.1180e+01],\n",
       "          [ 2.1180e+01,  4.4180e+01,  6.9180e+01,  4.8180e+01,  2.5180e+01],\n",
       "          [ 3.6180e+01,  7.5180e+01,  1.1718e+02,  8.1180e+01,  4.2180e+01],\n",
       "          [ 2.7180e+01,  5.6180e+01,  8.7180e+01,  6.0180e+01,  3.1180e+01],\n",
       "          [ 1.5180e+01,  3.1180e+01,  4.8180e+01,  3.3180e+01,  1.7180e+01]],\n",
       "\n",
       "         [[ 8.8516e+00,  1.8852e+01,  2.9852e+01,  2.0852e+01,  1.0852e+01],\n",
       "          [ 2.0852e+01,  4.3852e+01,  6.8852e+01,  4.7852e+01,  2.4852e+01],\n",
       "          [ 3.5852e+01,  7.4852e+01,  1.1685e+02,  8.0852e+01,  4.1852e+01],\n",
       "          [ 2.6852e+01,  5.5852e+01,  8.6852e+01,  5.9852e+01,  3.0852e+01],\n",
       "          [ 1.4852e+01,  3.0852e+01,  4.7852e+01,  3.2852e+01,  1.6852e+01]]]])"
      ]
     },
     "execution_count": 116,
     "metadata": {},
     "output_type": "execute_result"
    }
   ],
   "source": [
    "y"
   ]
  },
  {
   "cell_type": "code",
   "execution_count": null,
   "id": "8252aa35",
   "metadata": {},
   "outputs": [],
   "source": []
  },
  {
   "cell_type": "markdown",
   "id": "50fb03b7",
   "metadata": {},
   "source": [
    "## Transposed conv 3d"
   ]
  },
  {
   "cell_type": "code",
   "execution_count": 163,
   "id": "1060b27c",
   "metadata": {},
   "outputs": [
    {
     "data": {
      "text/plain": [
       "tensor([[[[[0., 1.],\n",
       "           [2., 3.]],\n",
       "\n",
       "          [[4., 5.],\n",
       "           [6., 7.]]]]])"
      ]
     },
     "execution_count": 163,
     "metadata": {},
     "output_type": "execute_result"
    }
   ],
   "source": [
    "net = nn.ConvTranspose3d(1, 2, (2, 2, 2), bias=False)\n",
    "x = torch.from_numpy(np.arange(2*2*2, dtype=np.float32).reshape(1, 1, 2, 2, 2)).to(torch.float32)\n",
    "x"
   ]
  },
  {
   "cell_type": "code",
   "execution_count": 164,
   "id": "2c060105",
   "metadata": {},
   "outputs": [],
   "source": [
    "for par in net.parameters():\n",
    "    par.requires_grad = False\n",
    "with torch.no_grad():\n",
    "    net.weight.fill_(1.)"
   ]
  },
  {
   "cell_type": "code",
   "execution_count": 165,
   "id": "8198bf31",
   "metadata": {},
   "outputs": [
    {
     "data": {
      "text/plain": [
       "torch.Size([1, 2, 2, 2, 2])"
      ]
     },
     "execution_count": 165,
     "metadata": {},
     "output_type": "execute_result"
    }
   ],
   "source": [
    "net.weight.shape"
   ]
  },
  {
   "cell_type": "code",
   "execution_count": 166,
   "id": "7c994b2e",
   "metadata": {},
   "outputs": [
    {
     "data": {
      "text/plain": [
       "torch.Size([1, 2, 3, 3, 3])"
      ]
     },
     "execution_count": 166,
     "metadata": {},
     "output_type": "execute_result"
    }
   ],
   "source": [
    "y = net(x)\n",
    "y.shape"
   ]
  },
  {
   "cell_type": "code",
   "execution_count": 167,
   "id": "d9b58a36",
   "metadata": {},
   "outputs": [
    {
     "data": {
      "text/plain": [
       "tensor([[[[[ 0.,  1.,  1.],\n",
       "           [ 2.,  6.,  4.],\n",
       "           [ 2.,  5.,  3.]],\n",
       "\n",
       "          [[ 4., 10.,  6.],\n",
       "           [12., 28., 16.],\n",
       "           [ 8., 18., 10.]],\n",
       "\n",
       "          [[ 4.,  9.,  5.],\n",
       "           [10., 22., 12.],\n",
       "           [ 6., 13.,  7.]]],\n",
       "\n",
       "\n",
       "         [[[ 0.,  1.,  1.],\n",
       "           [ 2.,  6.,  4.],\n",
       "           [ 2.,  5.,  3.]],\n",
       "\n",
       "          [[ 4., 10.,  6.],\n",
       "           [12., 28., 16.],\n",
       "           [ 8., 18., 10.]],\n",
       "\n",
       "          [[ 4.,  9.,  5.],\n",
       "           [10., 22., 12.],\n",
       "           [ 6., 13.,  7.]]]]])"
      ]
     },
     "execution_count": 167,
     "metadata": {},
     "output_type": "execute_result"
    }
   ],
   "source": [
    "y"
   ]
  },
  {
   "cell_type": "code",
   "execution_count": 168,
   "id": "a38702af",
   "metadata": {},
   "outputs": [
    {
     "data": {
      "text/plain": [
       "tensor([ 0.,  1.,  1.,  2.,  6.,  4.,  2.,  5.,  3.,  4., 10.,  6., 12., 28.,\n",
       "        16.,  8., 18., 10.,  4.,  9.,  5., 10., 22., 12.,  6., 13.,  7.,  0.,\n",
       "         1.,  1.,  2.,  6.,  4.,  2.,  5.,  3.,  4., 10.,  6., 12., 28., 16.,\n",
       "         8., 18., 10.,  4.,  9.,  5., 10., 22., 12.,  6., 13.,  7.])"
      ]
     },
     "execution_count": 168,
     "metadata": {},
     "output_type": "execute_result"
    }
   ],
   "source": [
    "y.flatten()"
   ]
  },
  {
   "cell_type": "code",
   "execution_count": 154,
   "id": "b052f8a9",
   "metadata": {},
   "outputs": [
    {
     "data": {
      "text/plain": [
       "torch.float32"
      ]
     },
     "execution_count": 154,
     "metadata": {},
     "output_type": "execute_result"
    }
   ],
   "source": [
    "y.dtype"
   ]
  },
  {
   "cell_type": "code",
   "execution_count": 158,
   "id": "ac1a0e5f",
   "metadata": {},
   "outputs": [
    {
     "data": {
      "text/plain": [
       "tensor([[[[[-0.,  1.,  1.],\n",
       "           [ 2.,  6.,  4.],\n",
       "           [ 2.,  5.,  3.]],\n",
       "\n",
       "          [[ 4., 10.,  6.],\n",
       "           [12., 28., 16.],\n",
       "           [ 8., 18., 10.]],\n",
       "\n",
       "          [[ 4.,  9.,  5.],\n",
       "           [10., 22., 12.],\n",
       "           [ 6., 13.,  7.]]],\n",
       "\n",
       "\n",
       "         [[[-0.,  1.,  1.],\n",
       "           [ 2.,  6.,  4.],\n",
       "           [ 2.,  5.,  3.]],\n",
       "\n",
       "          [[ 4., 10.,  6.],\n",
       "           [12., 28., 16.],\n",
       "           [ 8., 18., 10.]],\n",
       "\n",
       "          [[ 4.,  9.,  5.],\n",
       "           [10., 22., 12.],\n",
       "           [ 6., 13.,  7.]]]]])"
      ]
     },
     "execution_count": 158,
     "metadata": {},
     "output_type": "execute_result"
    }
   ],
   "source": [
    "y.round()"
   ]
  },
  {
   "cell_type": "code",
   "execution_count": 161,
   "id": "52c58ed5",
   "metadata": {},
   "outputs": [
    {
     "data": {
      "text/plain": [
       "tensor([[[[[0.1300, 1.1300],\n",
       "           [2.1300, 3.1300]],\n",
       "\n",
       "          [[4.1300, 5.1300],\n",
       "           [6.1300, 7.1300]]]]])"
      ]
     },
     "execution_count": 161,
     "metadata": {},
     "output_type": "execute_result"
    }
   ],
   "source": [
    "a = x + 0.13\n",
    "a"
   ]
  },
  {
   "cell_type": "code",
   "execution_count": 162,
   "id": "9555c173",
   "metadata": {},
   "outputs": [
    {
     "data": {
      "text/plain": [
       "tensor([[[[[-0.1201,  0.8799,  0.8799],\n",
       "           [ 1.8799,  5.8799,  3.8799],\n",
       "           [ 1.8799,  4.8799,  2.8799]],\n",
       "\n",
       "          [[ 3.8799,  9.8799,  5.8799],\n",
       "           [11.8799, 27.8799, 15.8799],\n",
       "           [ 7.8799, 17.8799,  9.8799]],\n",
       "\n",
       "          [[ 3.8799,  8.8799,  4.8799],\n",
       "           [ 9.8799, 21.8799, 11.8799],\n",
       "           [ 5.8799, 12.8799,  6.8799]]],\n",
       "\n",
       "\n",
       "         [[[-0.0686,  0.9314,  0.9314],\n",
       "           [ 1.9314,  5.9314,  3.9314],\n",
       "           [ 1.9314,  4.9314,  2.9314]],\n",
       "\n",
       "          [[ 3.9314,  9.9314,  5.9314],\n",
       "           [11.9314, 27.9314, 15.9314],\n",
       "           [ 7.9314, 17.9314,  9.9314]],\n",
       "\n",
       "          [[ 3.9314,  8.9314,  4.9314],\n",
       "           [ 9.9314, 21.9314, 11.9314],\n",
       "           [ 5.9314, 12.9314,  6.9314]]]]])"
      ]
     },
     "execution_count": 162,
     "metadata": {},
     "output_type": "execute_result"
    }
   ],
   "source": [
    "net(x)"
   ]
  },
  {
   "cell_type": "code",
   "execution_count": null,
   "id": "915d87ab",
   "metadata": {},
   "outputs": [],
   "source": []
  }
 ],
 "metadata": {
  "kernelspec": {
   "display_name": "Python 3 (ipykernel)",
   "language": "python",
   "name": "python3"
  },
  "language_info": {
   "codemirror_mode": {
    "name": "ipython",
    "version": 3
   },
   "file_extension": ".py",
   "mimetype": "text/x-python",
   "name": "python",
   "nbconvert_exporter": "python",
   "pygments_lexer": "ipython3",
   "version": "3.8.10"
  }
 },
 "nbformat": 4,
 "nbformat_minor": 5
}
